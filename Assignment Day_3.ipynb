{
 "cells": [
  {
   "cell_type": "markdown",
   "id": "811a4e5a",
   "metadata": {},
   "source": [
    "##### lambda assignment"
   ]
  },
  {
   "cell_type": "markdown",
   "id": "f03e3145",
   "metadata": {},
   "source": [
    "1) write a function to accept a number and return its square using\n",
    "        a) normal function\n",
    "        b) lambda"
   ]
  },
  {
   "cell_type": "code",
   "execution_count": 2,
   "id": "18554f46",
   "metadata": {},
   "outputs": [
    {
     "name": "stdout",
     "output_type": "stream",
     "text": [
      "Enter a Number: 2\n",
      "4\n",
      "Enter a Number: 2\n"
     ]
    },
    {
     "data": {
      "text/plain": [
       "4"
      ]
     },
     "execution_count": 2,
     "metadata": {},
     "output_type": "execute_result"
    }
   ],
   "source": [
    "def square():\n",
    "    num=int(input(\"Enter a Number: \"))\n",
    "    num=num*num\n",
    "    print(num)\n",
    "square()\n",
    "\n",
    "\n",
    "n=int(input(\"Enter a Number: \"))\n",
    "val=(lambda n:n*n)\n",
    "val(n)"
   ]
  },
  {
   "cell_type": "markdown",
   "id": "751cc22f",
   "metadata": {},
   "source": [
    "2) write a function to display \"Hello World\" using\n",
    "\ta) normal function\n",
    "\tb) lambda"
   ]
  },
  {
   "cell_type": "code",
   "execution_count": 2,
   "id": "5a952b08",
   "metadata": {},
   "outputs": [
    {
     "name": "stdout",
     "output_type": "stream",
     "text": [
      "Hello World..\n",
      "Hello World...\n"
     ]
    }
   ],
   "source": [
    "def fun():\n",
    "    print(\"Hello World..\")\n",
    "fun()\n",
    "\n",
    "print((lambda:\"Hello World...\")())"
   ]
  },
  {
   "cell_type": "markdown",
   "id": "675311d2",
   "metadata": {},
   "source": [
    "3) write a function with 2 arguments , second argument should be \"default argument\" and display them. Using\n",
    "\ta) normal function \n",
    "\tb) lambda"
   ]
  },
  {
   "cell_type": "code",
   "execution_count": 3,
   "id": "61ffa9b7",
   "metadata": {},
   "outputs": [
    {
     "name": "stdout",
     "output_type": "stream",
     "text": [
      "num1 : 50 num2: 10\n"
     ]
    },
    {
     "data": {
      "text/plain": [
       "'num1: 10 and num2: 20'"
      ]
     },
     "execution_count": 3,
     "metadata": {},
     "output_type": "execute_result"
    }
   ],
   "source": [
    "#3\n",
    "def fun(num1,num2=10):\n",
    "    print(\"num1 :\",num1,\"num2:\",num2)\n",
    "fun(50)\n",
    "\n",
    "\n",
    "val1=(lambda a,b=20:f\"num1: {a} and num2: {b}\")\n",
    "val1(10)"
   ]
  },
  {
   "cell_type": "markdown",
   "id": "a4dcc3e5",
   "metadata": {},
   "source": [
    "4) write a function with variable no. of arguments and display them. Using\n",
    "\ta) normal function\n",
    "\tb) lambda"
   ]
  },
  {
   "cell_type": "code",
   "execution_count": 5,
   "id": "79e445df",
   "metadata": {},
   "outputs": [
    {
     "name": "stdout",
     "output_type": "stream",
     "text": [
      "10\n",
      "20\n",
      "50\n",
      "36\n",
      "[10, 20]\n",
      "10 20 30 40 50\n"
     ]
    }
   ],
   "source": [
    "def fun(*var):\n",
    "    for i in var:\n",
    "        print(i)\n",
    "fun(10,20,50,36)\n",
    "\n",
    "print((lambda *var:[i for i in var])(10,20))\n",
    "\n",
    "print(*(lambda *var: var)(10, 20,30,40,50))"
   ]
  },
  {
   "cell_type": "markdown",
   "id": "2b102a0d",
   "metadata": {},
   "source": [
    "### List_Assignment\n",
    "\n",
    "1) create a list , accept a number,name and a float value from user and store it inside the list.\n",
    "now accept one more name from user and insert it at 2nd position.\n",
    "accept a number and append it at the end of the list.\n",
    "print the entire list."
   ]
  },
  {
   "cell_type": "code",
   "execution_count": null,
   "id": "3805947a",
   "metadata": {},
   "outputs": [],
   "source": []
  },
  {
   "cell_type": "code",
   "execution_count": null,
   "id": "2cd6a0a9",
   "metadata": {},
   "outputs": [],
   "source": []
  },
  {
   "cell_type": "code",
   "execution_count": 9,
   "id": "c4059cca",
   "metadata": {},
   "outputs": [
    {
     "name": "stdout",
     "output_type": "stream",
     "text": [
      "Enter a number: 22\n",
      "Enter a name: kishor\n",
      "Enter a float value: 7.5\n",
      "[22, 'kishor', 7.5]\n",
      "Enter 2nd name: 12\n",
      "[22, 'kishor', '12', 7.5]\n",
      "Enter 2nd number: 99\n",
      "[22, 'kishor', '12', 7.5, 99]\n"
     ]
    }
   ],
   "source": [
    "#1\n",
    "\n",
    "Mylist=[]\n",
    "\n",
    "num=int(input(\"Enter a number: \"))\n",
    "Mylist.append(num)\n",
    "name=input(\"Enter a name: \")\n",
    "Mylist.append(name)\n",
    "val=float(input(\"Enter a float value: \"))\n",
    "Mylist.append(val)\n",
    "print(Mylist)\n",
    "\n",
    "name2=input(\"Enter 2nd name: \")\n",
    "Mylist.insert(2,name2)\n",
    "print(Mylist)\n",
    "num2=int(input(\"Enter 2nd number: \"))\n",
    "Mylist.append(num2)\n",
    "print(Mylist)"
   ]
  },
  {
   "cell_type": "code",
   "execution_count": 11,
   "id": "afddd800",
   "metadata": {},
   "outputs": [
    {
     "name": "stdout",
     "output_type": "stream",
     "text": [
      "Enter a number: 5\n",
      "Enter a number: 3\n",
      "Enter a number: 8\n",
      "Enter a number: 6\n",
      "Enter a number: 4\n",
      "Enter a number: 0\n",
      "[5, 3, 8, 6, 4]\n",
      "5\n"
     ]
    }
   ],
   "source": [
    "\"\"\" \n",
    "Q2-- first create list empty. accept numbers till user enters 0 and store them inside the list. \n",
    "Print the list and its length.\"\"\"\n",
    "\n",
    "\n",
    "Mylist=[]\n",
    "\n",
    "while True:\n",
    "    num=int(input(\"Enter a number: \"))\n",
    "    if(num==0):\n",
    "        break\n",
    "    else:\n",
    "        Mylist.append(num)\n",
    "\n",
    "print(Mylist)\n",
    "print(len(Mylist))"
   ]
  },
  {
   "cell_type": "code",
   "execution_count": 14,
   "id": "a07fe63f",
   "metadata": {},
   "outputs": [
    {
     "name": "stdout",
     "output_type": "stream",
     "text": [
      "Enter a number: 5\n",
      "Enter a number: 6\n",
      "Enter a number: 4\n",
      "Enter a number: 8\n",
      "Enter a number: 9\n",
      "[5, 6, 4, 8, 9]\n",
      "[5, 6, 4, 8, 9, 9, 8, 7]\n"
     ]
    }
   ],
   "source": [
    "\"\"\"\n",
    "Q-3 accept 5 numbers, store them inside the list and display it. Now add 3 more numbers [hardcoded] at the end of the list using \"extend\" method.\n",
    "\n",
    "\"\"\"\n",
    "Mylist=[]\n",
    "i=1\n",
    "while(i<6):\n",
    "    num=int(input(\"Enter a number: \"))\n",
    "    Mylist.append(num)\n",
    "    i+=1\n",
    "\n",
    "print(Mylist)\n",
    "\n",
    "Mylist2=[9,8,7]\n",
    "Mylist.extend(Mylist2)\n",
    "\n",
    "print(Mylist)"
   ]
  },
  {
   "cell_type": "code",
   "execution_count": 15,
   "id": "b4bd75c6",
   "metadata": {},
   "outputs": [
    {
     "name": "stdout",
     "output_type": "stream",
     "text": [
      "Enter a number: 5\n",
      "Enter a name: kishor\n",
      "Enter a boolean value: 2.5\n",
      "Enter a char: k\n",
      "[5, 'kishor', True, 'k']\n",
      "['k', True, 'kishor', 5]\n"
     ]
    }
   ],
   "source": [
    "\"\"\"\n",
    "4) accept a number,string,decimal,boolean value and a character from the user and store it inside the list. \n",
    "First print the list from the beginning and then from the end.\n",
    "\"\"\"\n",
    "Mylist=[]\n",
    "\n",
    "num=int(input(\"Enter a number: \"))\n",
    "Mylist.append(num)\n",
    "name=input(\"Enter a name: \")\n",
    "Mylist.append(name)\n",
    "val=bool(input(\"Enter a boolean value: \"))\n",
    "Mylist.append(val)\n",
    "val1=input(\"Enter a char: \")\n",
    "Mylist.append(val1)\n",
    "\n",
    "print(Mylist)\n",
    "\n",
    "print(Mylist[::-1])\n",
    "\n",
    "\n"
   ]
  },
  {
   "cell_type": "code",
   "execution_count": 14,
   "id": "e5e10e8c",
   "metadata": {},
   "outputs": [
    {
     "name": "stdout",
     "output_type": "stream",
     "text": [
      "Enter a number: 5\n",
      "Enter a number: 8\n",
      "Enter a number: 5\n",
      "Enter a number: 4\n",
      "Enter a number: 9\n",
      "[5, 8, 5, 4, 9]\n",
      "Enter a number you want to remove: 8\n",
      "[5, 5, 4, 9]\n"
     ]
    }
   ],
   "source": [
    "\"\"\"\n",
    "5) accept 5 numbers, store them inside the list. \n",
    "now accept a number from user which he would like to remove from the list and  after removing it, display the list.\n",
    "\"\"\"\n",
    "\n",
    "Mylist=[]\n",
    "\n",
    "i=1\n",
    "while(i<6):\n",
    "    num=int(input(\"Enter a number: \"))\n",
    "    Mylist.append(num)\n",
    "    i+=1\n",
    "\n",
    "print(Mylist)\n",
    "\n",
    "num1=int(input(\"Enter a number you want to remove: \"))\n",
    "Mylist.remove(num1)\n",
    "\n",
    "print(Mylist)\n",
    "\n",
    "\n"
   ]
  },
  {
   "cell_type": "code",
   "execution_count": 7,
   "id": "d778f7fa",
   "metadata": {},
   "outputs": [
    {
     "name": "stdout",
     "output_type": "stream",
     "text": [
      "Enter a number: 5\n",
      "Enter a number: 5\n",
      "Enter a number: 6\n",
      "Enter a number: 8\n",
      "Enter a number: 2\n",
      "Enter a position from which you want to remove an element: 1\n",
      "[5, 6, 8, 2]\n"
     ]
    }
   ],
   "source": [
    "\"\"\"6) accept 5 numbers, store them inside the list. now accept a position from user ,\n",
    "remove the element from that position and  after removing it, display the list.\n",
    "\"\"\"\n",
    "\n",
    "Mylist=[]\n",
    "\n",
    "i=1\n",
    "while(i<6):\n",
    "    num=int(input(\"Enter a number: \"))\n",
    "    Mylist.append(num)\n",
    "    i+=1\n",
    "\n",
    "ind=int(input(\"Enter a position from which you want to remove an element: \"))\n",
    "Mylist.pop(ind)\n",
    "\n",
    "print(Mylist)\n",
    "\n"
   ]
  },
  {
   "cell_type": "code",
   "execution_count": 15,
   "id": "e5f24e11",
   "metadata": {},
   "outputs": [
    {
     "name": "stdout",
     "output_type": "stream",
     "text": [
      "Enter a name: kishor\n",
      "Enter a number: 22\n",
      "Enter a character: f\n",
      "Enter a boolean value: true\n",
      "Enter a decimal value: 5.5\n",
      "['kishor', 22, 'f', 'true', 5.5]\n",
      "[5.5, 'true', 'f', 22, 'kishor']\n",
      "['f', 'true', 5.5]\n",
      "[22, 'f', 'true']\n",
      "[22, 'f']\n"
     ]
    }
   ],
   "source": [
    "\n",
    "\"\"\"7) create a list and store string,number,character,boolean,decimal values respectively inside it.\n",
    "Now slice it in following ways:\n",
    "a) display it in reverse order\n",
    "b) list all the elements from 2nd position\n",
    "c) list the elements from 1st to 3rd position\n",
    "d) slice it from 1st to 3rd elements from the end.\"\"\"\n",
    "\n",
    "Mylist=[]\n",
    "\n",
    "name=input(\"Enter a name: \")\n",
    "Mylist.append(name)\n",
    "num=int(input(\"Enter a number: \"))\n",
    "Mylist.append(num)\n",
    "val=input(\"Enter a character: \")\n",
    "Mylist.append(val)\n",
    "val2=input(\"Enter a boolean value: \")\n",
    "Mylist.append(val2)\n",
    "val3=float(input(\"Enter a decimal value: \"))\n",
    "Mylist.append(val3)\n",
    "\n",
    "print(Mylist)\n",
    "\n",
    "print(Mylist[::-1])\n",
    "print(Mylist[2:])\n",
    "print(Mylist[1:4])\n",
    "print(Mylist[-4:-2])\n",
    "\n",
    "\n"
   ]
  },
  {
   "cell_type": "code",
   "execution_count": 4,
   "id": "7bd7b841",
   "metadata": {},
   "outputs": [
    {
     "name": "stdout",
     "output_type": "stream",
     "text": [
      "[1, 2, 3, 4, 5, 6, 7, 8, 9, 10, 11, 12, 13, 14, 15, 16, 17, 18, 19, 20]\n",
      "[1, 3, 5, 7, 9, 11, 13, 15, 17, 19]\n"
     ]
    }
   ],
   "source": [
    "\"\"\"8) Note: use List comprehension\n",
    " create a list with the numbers from 1 to 20\n",
    " create one more list which should contain only odd numbers from the first list.\"\"\"\n",
    "\n",
    "\n",
    "num = [i for i in range(1, 21)]\n",
    "odd_num = [j for j in num if j % 2 != 0]\n",
    "\n",
    "print(num)\n",
    "print(odd_num)\n",
    "\n",
    "\n",
    "\n"
   ]
  },
  {
   "cell_type": "code",
   "execution_count": 2,
   "id": "ccfb783f",
   "metadata": {},
   "outputs": [
    {
     "name": "stdout",
     "output_type": "stream",
     "text": [
      "Enter a number: 2\n",
      "Enter a number: 5\n",
      "Enter a number: 4\n",
      "Enter a number: 3\n",
      "Enter a number: 6\n",
      "[2, 3, 4, 5, 6]\n",
      "[6, 5, 4, 3, 2]\n"
     ]
    }
   ],
   "source": [
    "\"\"\"\n",
    "9) accept 5 names and store them in list. Now sort the list in ascending order display and then in descending order.\n",
    "\"\"\"\n",
    "\n",
    "Mylist=[]\n",
    "\n",
    "i=1\n",
    "while(i<6):\n",
    "    num=int(input(\"Enter a number: \"))\n",
    "    Mylist.append(num)\n",
    "    i+=1\n",
    "\n",
    "Mylist.sort()\n",
    "print(Mylist)\n",
    "Mylist.sort(reverse=True)\n",
    "print(Mylist)"
   ]
  },
  {
   "cell_type": "code",
   "execution_count": null,
   "id": "d97d17eb",
   "metadata": {},
   "outputs": [],
   "source": []
  }
 ],
 "metadata": {
  "kernelspec": {
   "display_name": "Python 3 (ipykernel)",
   "language": "python",
   "name": "python3"
  },
  "language_info": {
   "codemirror_mode": {
    "name": "ipython",
    "version": 3
   },
   "file_extension": ".py",
   "mimetype": "text/x-python",
   "name": "python",
   "nbconvert_exporter": "python",
   "pygments_lexer": "ipython3",
   "version": "3.11.5"
  }
 },
 "nbformat": 4,
 "nbformat_minor": 5
}
