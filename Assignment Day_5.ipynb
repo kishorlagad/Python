{
 "cells": [
  {
   "cell_type": "markdown",
   "id": "ab8adf8f",
   "metadata": {},
   "source": [
    "### string Assignment"
   ]
  },
  {
   "cell_type": "code",
   "execution_count": 1,
   "id": "813eab2e",
   "metadata": {},
   "outputs": [
    {
     "name": "stdout",
     "output_type": "stream",
     "text": [
      "Enter The String: restart\n",
      "resta$t\n"
     ]
    }
   ],
   "source": [
    "\"\"\"1) Write a Python program to get a string from a given string where all occurrences of its first char \n",
    "have been changed to '$', except the first char itself. \n",
    "Sample String : 'restart'\n",
    "Expected Result : 'resta$t'\n",
    "\"\"\"\n",
    "string=input(\"Enter The String: \")\n",
    "first_char = string[0]\n",
    "new_string = first_char\n",
    "\n",
    "for i in range(1, len(string)):\n",
    "    if string[i] == first_char:\n",
    "      new_string += '$'\n",
    "    else:\n",
    "      new_string += string[i]\n",
    "print(new_string)"
   ]
  },
  {
   "cell_type": "code",
   "execution_count": 4,
   "id": "34aca014",
   "metadata": {},
   "outputs": [
    {
     "name": "stdout",
     "output_type": "stream",
     "text": [
      "Enter The String: string\n",
      "stringly\n"
     ]
    }
   ],
   "source": [
    "\"\"\"2) Write a Python program to add 'ing' at the end of a given string (length should be at least 3). \n",
    "If the given string already ends with 'ing' then add 'ly' instead. If the string length of the given string is less than 3, \n",
    "leave it unchanged. \n",
    "Sample String : 'abc'\n",
    "Expected Result : 'abcing'\n",
    "Sample String : 'string'\n",
    "Expected Result : 'stringly'\n",
    "\"\"\"\n",
    "mystring=input(\"Enter The String: \")\n",
    "if len(mystring) >= 3:\n",
    "    if \"ing\" in mystring:\n",
    "       print(mystring.__add__(\"ly\"))\n",
    "    else:\n",
    "        print(mystring.__add__(\"ing\"))\n",
    "else:\n",
    "    print(mystring)"
   ]
  },
  {
   "cell_type": "code",
   "execution_count": 5,
   "id": "a18be7fe",
   "metadata": {},
   "outputs": [
    {
     "name": "stdout",
     "output_type": "stream",
     "text": [
      "Enter The String: kishor\n",
      "Length Of The String Is:  6\n"
     ]
    }
   ],
   "source": [
    "\"\"\"3) Write a Python program to calculate the length of a string.\n",
    "\t[ without any inbuilt function ]\n",
    "\"\"\"\n",
    "mystring=input(\"Enter The String: \")\n",
    "count=0\n",
    "for i in mystring:\n",
    "    mystring.index(i)\n",
    "    count+=1\n",
    "print(\"Length Of The String Is: \",count)"
   ]
  },
  {
   "cell_type": "code",
   "execution_count": 8,
   "id": "b2e92cbb",
   "metadata": {},
   "outputs": [
    {
     "name": "stdout",
     "output_type": "stream",
     "text": [
      "Enter The String: lagad\n",
      "Counter({'a': 2, 'l': 1, 'g': 1, 'd': 1})\n"
     ]
    }
   ],
   "source": [
    "\"\"\"4) Write a Python program to count the number of characters (character frequency) in a string. \n",
    "Sample String : google.com'\n",
    "\n",
    "expected result:\n",
    "{'g': 2, 'o': 3, 'l': 1, 'e': 1, '.': 1, 'c': 1, 'm': 1}\n",
    "\"\"\"\n",
    "\n",
    "from collections import Counter\n",
    "\n",
    "mystring=input(\"Enter The String: \")\n",
    "mystring2=Counter(mystring)\n",
    "print(mystring2)"
   ]
  },
  {
   "cell_type": "code",
   "execution_count": 9,
   "id": "f129a599",
   "metadata": {},
   "outputs": [
    {
     "name": "stdout",
     "output_type": "stream",
     "text": [
      "Enter The String: kishorlagad\n",
      "kiad\n"
     ]
    }
   ],
   "source": [
    "\"\"\"Q5) Write a Python program to get a string made of the first 2 and the last 2 chars from a given a string. If the string length is less than 2, return the same string instead of the empty string\n",
    "\"\"\"\n",
    "mystring=input(\"Enter The String: \")\n",
    "mystring1= mystring[0:2]\n",
    "mystring2= mystring[-2:]\n",
    "mystring_new=mystring1+mystring2\n",
    "print(mystring_new)\n",
    "if len(mystring) < 2:\n",
    "    print(mystring)\n"
   ]
  },
  {
   "cell_type": "code",
   "execution_count": 10,
   "id": "ea5b4dcb",
   "metadata": {},
   "outputs": [
    {
     "name": "stdout",
     "output_type": "stream",
     "text": [
      "Enter The String: abc\n",
      "Enter The Another String: xyz\n",
      "xyc abz\n"
     ]
    }
   ],
   "source": [
    "\"\"\"6) Write a Python program to get a single string from two given strings, separated by a space and swap the first two characters of each string. \n",
    "Sample String : 'abc', 'xyz'\n",
    "Expected Result : 'xyc abz'\n",
    "\"\"\"\n",
    "mystring=input(\"Enter The String: \")\n",
    "mystring1=input(\"Enter The Another String: \")\n",
    "mystring3= mystring[0:2]+mystring1[-1:]\n",
    "mystring2=mystring1[0:2]+mystring[-1:]\n",
    "new_string= mystring2 + \" \" + mystring3\n",
    "print(new_string)\n",
    "\n"
   ]
  },
  {
   "cell_type": "markdown",
   "id": "8c0ed1b7",
   "metadata": {},
   "source": [
    "## other "
   ]
  },
  {
   "cell_type": "code",
   "execution_count": 3,
   "id": "8e8e21fe",
   "metadata": {},
   "outputs": [
    {
     "ename": "NameError",
     "evalue": "name 'number' is not defined",
     "output_type": "error",
     "traceback": [
      "\u001b[1;31m---------------------------------------------------------------------------\u001b[0m",
      "\u001b[1;31mNameError\u001b[0m                                 Traceback (most recent call last)",
      "Cell \u001b[1;32mIn[3], line 14\u001b[0m\n\u001b[0;32m      1\u001b[0m \u001b[38;5;124;03m\"\"\"1) Accept a number from the user check if it is special \u001b[39;00m\n\u001b[0;32m      2\u001b[0m \u001b[38;5;124;03m * number or not? \u001b[39;00m\n\u001b[0;32m      3\u001b[0m \u001b[38;5;124;03mExample: 145\u001b[39;00m\n\u001b[1;32m   (...)\u001b[0m\n\u001b[0;32m      9\u001b[0m \u001b[38;5;124;03msome other special numbers are 1,2 and 40585\u001b[39;00m\n\u001b[0;32m     10\u001b[0m \u001b[38;5;124;03m\"\"\"\u001b[39;00m\n\u001b[0;32m     13\u001b[0m sum_of_factorials \u001b[38;5;241m=\u001b[39m \u001b[38;5;241m0\u001b[39m\n\u001b[1;32m---> 14\u001b[0m temp \u001b[38;5;241m=\u001b[39m number\n\u001b[0;32m     16\u001b[0m \u001b[38;5;28;01mwhile\u001b[39;00m temp \u001b[38;5;241m>\u001b[39m \u001b[38;5;241m0\u001b[39m:\n\u001b[0;32m     17\u001b[0m     digit \u001b[38;5;241m=\u001b[39m temp \u001b[38;5;241m%\u001b[39m \u001b[38;5;241m10\u001b[39m\n",
      "\u001b[1;31mNameError\u001b[0m: name 'number' is not defined"
     ]
    }
   ],
   "source": [
    "\"\"\"1) Accept a number from the user check if it is special \n",
    " * number or not? \n",
    "Example: 145\n",
    "1! =1 \n",
    "4!=1*2*3*4 \n",
    "5!=1*2*3*4*5 \n",
    "Sum of the factorials is (1+24+120=145) \n",
    "\n",
    "some other special numbers are 1,2 and 40585\n",
    "\"\"\"\n",
    "\n",
    "\n",
    "sum_of_factorials = 0\n",
    "temp = number\n",
    "\n",
    "while temp > 0:\n",
    "    digit = temp % 10\n",
    "    temp //= 10 \n",
    "\n",
    "factorial = 1\n",
    "for i in range(1, digit + 1):\n",
    "    factorial *= i\n",
    "\n",
    "    sum_of_factorials += factorial\n",
    "\n",
    "if sum_of_factorials == number:\n",
    "      print(f\"{number} is a special number.\")\n",
    "else:\n",
    "      print(f\"{number} is not a special number.\")"
   ]
  },
  {
   "cell_type": "code",
   "execution_count": 1,
   "id": "04de2877",
   "metadata": {},
   "outputs": [
    {
     "name": "stdout",
     "output_type": "stream",
     "text": [
      "Enter The Number :13245\n",
      "15\n"
     ]
    }
   ],
   "source": [
    "\"\"\"2) accept a number (maximum 5 digit number) and  calculate sum of its digits.\n",
    "\"\"\"\n",
    "number=int(input(\"Enter The Number :\"))\n",
    "temp=number \n",
    "sum=0\n",
    "while temp>0:\n",
    "    digit=temp % 10\n",
    "    temp //=10\n",
    "    sum+=digit\n",
    "print(sum)"
   ]
  },
  {
   "cell_type": "code",
   "execution_count": 2,
   "id": "831aaeb7",
   "metadata": {},
   "outputs": [
    {
     "name": "stdout",
     "output_type": "stream",
     "text": [
      "Enter The Number: 1634\n",
      "It's An Armstrong Number\n"
     ]
    }
   ],
   "source": [
    "\"\"\"3)  Print 4 digit armstrong numbers\n",
    " e.g.  1634, 8208, 9474 are four-digit Armstrong numbers\n",
    "\"\"\"\n",
    "\n",
    "number=int(input(\"Enter The Number: \"))\n",
    "temp=number\n",
    "sum=0\n",
    "\n",
    "while temp>0:\n",
    "    digit=temp%10\n",
    "    temp//=10\n",
    "    D=digit**4\n",
    "    sum+=D\n",
    "if sum==number:\n",
    "    print(\"It's An Armstrong Number\")\n",
    "else:\n",
    "    print(\"It's Not An Armstrong Number\")"
   ]
  },
  {
   "cell_type": "code",
   "execution_count": 3,
   "id": "0591c789",
   "metadata": {},
   "outputs": [
    {
     "name": "stdout",
     "output_type": "stream",
     "text": [
      "Enter The Principle Amount: 500\n",
      "Enter The Rate Of Interest: 2\n",
      "Enter The Number Of Years: 2\n",
      "The Simple Interest Is :  20.0\n"
     ]
    }
   ],
   "source": [
    "\"\"\"4) accept principle amt, rate of interest and no. of years and calculate simple interest.\n",
    "\t[ formula :    principle_amt*rate*years)/100 ]\n",
    "\"\"\"\n",
    "\n",
    "principle_amt=int(input(\"Enter The Principle Amount: \"))\n",
    "rate=float(input(\"Enter The Rate Of Interest: \"))\n",
    "period=int(input(\"Enter The Number Of Years: \"))\n",
    "Simple_int= (principle_amt * rate * period) / 100\n",
    "print (\"The Simple Interest Is : \",Simple_int)"
   ]
  },
  {
   "cell_type": "code",
   "execution_count": null,
   "id": "414a57ea",
   "metadata": {},
   "outputs": [],
   "source": []
  }
 ],
 "metadata": {
  "kernelspec": {
   "display_name": "Python 3 (ipykernel)",
   "language": "python",
   "name": "python3"
  },
  "language_info": {
   "codemirror_mode": {
    "name": "ipython",
    "version": 3
   },
   "file_extension": ".py",
   "mimetype": "text/x-python",
   "name": "python",
   "nbconvert_exporter": "python",
   "pygments_lexer": "ipython3",
   "version": "3.11.5"
  }
 },
 "nbformat": 4,
 "nbformat_minor": 5
}
