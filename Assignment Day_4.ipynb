{
 "cells": [
  {
   "cell_type": "markdown",
   "id": "2b34d4ee",
   "metadata": {},
   "source": [
    "### tuple Assignment"
   ]
  },
  {
   "cell_type": "code",
   "execution_count": 47,
   "id": "f0234af9",
   "metadata": {},
   "outputs": [
    {
     "name": "stdout",
     "output_type": "stream",
     "text": [
      "3\n"
     ]
    }
   ],
   "source": [
    "\"\"\"Q1 Write a Python program to count the elements in \n",
    "a list until an element is a tuple.\n",
    "\n",
    "Sample input : list = [10, 20, 30, (40,50), 60]\n",
    "Sample output = 3\n",
    "\"\"\"\n",
    "\n",
    "lst = [10, 20, 30, (40,50), 60]\n",
    "count=0\n",
    "for i in lst:\n",
    "    if type(i) is tuple:\n",
    "        break\n",
    "    count+=1\n",
    "print(count)"
   ]
  },
  {
   "cell_type": "code",
   "execution_count": 3,
   "id": "9e9cc435",
   "metadata": {},
   "outputs": [
    {
     "name": "stdout",
     "output_type": "stream",
     "text": [
      "[2, 4, 6, 8, 9]\n",
      "[9, 8, 6, 4, 2]\n"
     ]
    }
   ],
   "source": [
    "\"\"\"Q2 create a tuple to store 5 numbers and then sort it\n",
    "in ascending and descending order.\"\"\"\n",
    "\n",
    "tup=(4,8,9,6,2)\n",
    "print(sorted(tup))\n",
    "print(sorted(tup,reverse=True))"
   ]
  },
  {
   "cell_type": "code",
   "execution_count": 5,
   "id": "e8af7e69",
   "metadata": {},
   "outputs": [
    {
     "name": "stdout",
     "output_type": "stream",
     "text": [
      "{2, 3, 5}\n"
     ]
    }
   ],
   "source": [
    "\"\"\"Q3 Write a Python program to find the repeated items \n",
    "of a tuple.\"\"\"\n",
    "\n",
    "tup = (1, 2, 3, 4, 5, 2, 3, 6, 7, 8, 5)\n",
    "lst=[]\n",
    "for i in tup:\n",
    "    if tup.count(i)>1:\n",
    "        lst.append(i)\n",
    "#print(lst)\n",
    "myset=set(lst) \n",
    "print(myset)       \n"
   ]
  },
  {
   "cell_type": "code",
   "execution_count": 6,
   "id": "95c1415a",
   "metadata": {},
   "outputs": [
    {
     "name": "stdout",
     "output_type": "stream",
     "text": [
      "12: 2 times\n",
      "34: 2 times\n",
      "35: 1 times\n",
      "4: 1 times\n",
      "6: 1 times\n",
      "76: 1 times\n",
      "778: 1 times\n",
      "8: 1 times\n",
      "97: 1 times\n",
      "856: 1 times\n",
      "56: 3 times\n",
      "45: 1 times\n",
      "23: 1 times\n"
     ]
    }
   ],
   "source": [
    "#Q3\n",
    "my_tuple=(12,12,34,35,4,6,76,778,8,97,856,56,56,56,45,34,23)\n",
    "# Initialize a dictionary to store the counts of each element\n",
    "element_counts = {}\n",
    "# Iterate through the tuple\n",
    "for item in my_tuple:\n",
    " # Update the count for each element in the dictionary\n",
    "    element_counts[item] = element_counts.get(item, 0) + 1\n",
    "# Print the element counts\n",
    "for element, count in element_counts.items():\n",
    "    print(f\"{element}: {count} times\")"
   ]
  },
  {
   "cell_type": "markdown",
   "id": "f2a6b813",
   "metadata": {},
   "source": [
    "#### set assignment"
   ]
  },
  {
   "cell_type": "code",
   "execution_count": 1,
   "id": "2337ab65",
   "metadata": {},
   "outputs": [
    {
     "name": "stdout",
     "output_type": "stream",
     "text": [
      "Enter a number: 1\n",
      "Enter a number: 2\n",
      "Enter a number: 5\n",
      "Enter a number: 8\n",
      "Enter a number: 9\n",
      "Enter a number: 6\n",
      "Enter a number: 12\n",
      "Enter a number: 25\n",
      "Enter a number: 36\n",
      "Enter a number: 14\n",
      "Enter a number: 6\n",
      "{1, 2, 36, 5, 6, 8, 9, 12, 14, 25}\n",
      "enter one more element: 8\n",
      "{1, 2, 36, 5, 6, 8, 9, 12, 14, 25}\n",
      "{2, 36, 5, 6, 8, 12, 14, 25}\n"
     ]
    }
   ],
   "source": [
    "\"\"\" accept 10 values from user and add them inside the set.\n",
    "now accept one more value from user and \n",
    "if it is present in the set, remove it. \n",
    "Make sure program doesn't give any error if number is not \n",
    "there inside the set.\"\"\"\n",
    "\n",
    "my_set =set({})\n",
    "\n",
    "for num in range(11):\n",
    "    num=int(input(\"Enter a number: \"))\n",
    "    my_set.add(num)\n",
    "    \n",
    "print(my_set)\n",
    "my_set.add(int(input(\"enter one more element: \")))\n",
    "print(my_set)\n",
    "my_set.discard(9)\n",
    "my_set.pop()\n",
    "print(my_set)"
   ]
  },
  {
   "cell_type": "markdown",
   "id": "512b7144",
   "metadata": {},
   "source": [
    "#### STRING_ASSIGNMENTS"
   ]
  },
  {
   "cell_type": "code",
   "execution_count": 144,
   "id": "567fadf9",
   "metadata": {},
   "outputs": [
    {
     "name": "stdout",
     "output_type": "stream",
     "text": [
      "Enter The Palindrome String: kisik\n",
      "kisik\n",
      "It Is Palindrome\n"
     ]
    }
   ],
   "source": [
    "\"\"\"1) accept a string and display whether it is palindrom or not.\n",
    "\"\"\"\n",
    "mystring=input(\"Enter The Palindrome String: \")\n",
    "print(mystring)\n",
    "if mystring[::-1]==mystring:\n",
    "    print(\"It Is Palindrome\")\n",
    "else:\n",
    "    print(\"Not A Palindrome\") "
   ]
  },
  {
   "cell_type": "code",
   "execution_count": 142,
   "id": "1a83a18d",
   "metadata": {},
   "outputs": [
    {
     "name": "stdout",
     "output_type": "stream",
     "text": [
      "Enter The String: kishor\n",
      "kishor\n",
      "Enter The Slicing Starting Index: 2\n",
      "Enter The Slicing Ending Index: 4\n",
      "The Newly Created Slice is :  sh\n"
     ]
    }
   ],
   "source": [
    "\"\"\"2) accept a string and display it. now accept slicing positions \n",
    "from and to , slice the string and display it.\n",
    "\"\"\"\n",
    "mystring=input(\"Enter The String: \")\n",
    "print(mystring)\n",
    "slicing_start=int(input(\"Enter The Slicing Starting Index: \"))\n",
    "slicing_end=int(input(\"Enter The Slicing Ending Index: \"))\n",
    "new_slice=mystring[slicing_start:slicing_end]\n",
    "print(\"The Newly Created Slice is : \", new_slice)"
   ]
  },
  {
   "cell_type": "code",
   "execution_count": 141,
   "id": "a8ce817c",
   "metadata": {},
   "outputs": [
    {
     "name": "stdout",
     "output_type": "stream",
     "text": [
      "Enter The String: kishor\n",
      "kishor\n",
      "Total Vowels Are:  ['i', 'o']\n",
      "Total Number Of Vowels:  2\n"
     ]
    }
   ],
   "source": [
    "\"\"\"3) accept a string and display how many vowel\n",
    "characters are there inside it.\n",
    "\"\"\"\n",
    "mystring=input(\"Enter The String: \")\n",
    "print(mystring)\n",
    "count=0\n",
    "list=[]\n",
    "for i in mystring:\n",
    "    match i:\n",
    "        case 'A' | 'a':\n",
    "            list.append(i)\n",
    "        case 'E'|'e':\n",
    "            list.append(i)\n",
    "        case 'I'|'i':\n",
    "            list.append(i)\n",
    "        case 'O'|'o':\n",
    "            list.append(i)\n",
    "        case 'U'| 'u':\n",
    "            list.append(i)\n",
    "print(\"Total Vowels Are: \",list)\n",
    "print(\"Total Number Of Vowels: \",len(list))"
   ]
  },
  {
   "cell_type": "code",
   "execution_count": 140,
   "id": "5d1a91e3",
   "metadata": {},
   "outputs": [
    {
     "name": "stdout",
     "output_type": "stream",
     "text": [
      "Enter The String: kishor\n",
      "kishor\n",
      "Counter({'k': 1, 'i': 1, 's': 1, 'h': 1, 'o': 1, 'r': 1})\n"
     ]
    }
   ],
   "source": [
    "\"\"\"4) accept a string and display the characters which are \n",
    "repeated in the string\n",
    "\"\"\"\n",
    "from collections import Counter\n",
    "mystring=input(\"Enter The String: \")\n",
    "print(mystring)\n",
    "mydict=Counter(mystring)\n",
    "print(mydict)"
   ]
  },
  {
   "cell_type": "code",
   "execution_count": 139,
   "id": "85a5bc9c",
   "metadata": {},
   "outputs": [
    {
     "name": "stdout",
     "output_type": "stream",
     "text": [
      "Enter The String: kishor\n",
      "kishor\n",
      "Total Number Of Words Are:  6\n"
     ]
    }
   ],
   "source": [
    "\"\"\"5) accept a string and find out how many words are there in it.\n",
    "\"\"\"\n",
    "mystring=input(\"Enter The String: \")\n",
    "print(mystring)\n",
    "mylist=[]\n",
    "for i in mystring:\n",
    "    mylist.append(i)\n",
    "print(\"Total Number Of Words Are: \",len(mylist))"
   ]
  },
  {
   "cell_type": "code",
   "execution_count": 138,
   "id": "625328d2",
   "metadata": {},
   "outputs": [
    {
     "name": "stdout",
     "output_type": "stream",
     "text": [
      "Enter The String: kishor lagad\n",
      "kishor lagad\n",
      "kishor lagad\n",
      "lagad kishor\n"
     ]
    }
   ],
   "source": [
    "\"\"\"6) accept a sentence and reverse it.\n",
    "\te.g.  hello world\n",
    "\t\tworld hello\n",
    "\"\"\"\n",
    "\n",
    "mystring=input(\"Enter The String: \")\n",
    "print(mystring)\n",
    "myvar=mystring.split()\n",
    "print(myvar[0],myvar[1])\n",
    "t=myvar[0]\n",
    "myvar[0]=myvar[1]\n",
    "myvar[1]=t\n",
    "print(myvar[0],myvar[1])"
   ]
  },
  {
   "cell_type": "code",
   "execution_count": 137,
   "id": "f2bcf7c4",
   "metadata": {},
   "outputs": [
    {
     "name": "stdout",
     "output_type": "stream",
     "text": [
      "It Is A Pangram\n"
     ]
    }
   ],
   "source": [
    "\"\"\"7) A pangram is a sentence that contains all the alphabets.\n",
    "example: The quick brown fox jumps over the lazy dog. Your task\n",
    "here is to write a function to check a sentence to see if it is a pangram or not.\n",
    "\"\"\"\n",
    "mystring=\"The quick brown fox jumps over the lazy dog.\"\n",
    "alphabate=set(\"abcdefghijklmnopqrstuvwxyz\")\n",
    "mystring=mystring.lower()\n",
    "for letter in alphabate:\n",
    "    if letter not in mystring:\n",
    "        print(\"It Is Not Pangram\")\n",
    "print(\"It Is A Pangram\")\n"
   ]
  },
  {
   "cell_type": "markdown",
   "id": "ea22b1c1",
   "metadata": {},
   "source": [
    "##### Dictionary Assignment"
   ]
  },
  {
   "cell_type": "code",
   "execution_count": 1,
   "id": "1120d293",
   "metadata": {},
   "outputs": [
    {
     "name": "stdout",
     "output_type": "stream",
     "text": [
      "Enter The Student Name: K\n",
      "Enter The Student Name: P\n",
      "Enter The Student Name: R\n",
      "Enter The Student Name: A\n",
      "Enter The Student Name: S\n",
      "{1: 'K', 2: 'P', 3: 'R', 4: 'A', 5: 'S'}\n"
     ]
    }
   ],
   "source": [
    "\"\"\"Q1 accept 5 students name and store them in the\n",
    "dictionary by providing keys from 1 to 5 respectively. \"\"\"\n",
    "mydict={}\n",
    "for i in range(1,6):\n",
    "    name=input(\"Enter The Student Name: \")\n",
    "    #mydict.update({i:name})\n",
    "    mydict[i]=name\n",
    "print(mydict)"
   ]
  },
  {
   "cell_type": "code",
   "execution_count": 7,
   "id": "f877fedd",
   "metadata": {},
   "outputs": [
    {
     "name": "stdout",
     "output_type": "stream",
     "text": [
      "Enter product name: soap\n",
      "100\n"
     ]
    }
   ],
   "source": [
    "\"\"\"Q2 create a dictionary with pairs\n",
    "\tsoap:100\n",
    "\tdeo:300\n",
    "\tperfume:400\n",
    "\n",
    "now accept a product name from user (in any case, so you have\n",
    "to handle \"ignore case\")\n",
    "and display its price. Also , if the product is not present in\n",
    "the dictionary display the error message \" product not available \"\n",
    "\tNote:  you should not get \"KeyError:\" in the program.\"\"\"\n",
    "\n",
    "mydict={'soap':100,'deo':300,'perfume':400}\n",
    "product_name=input(\"Enter product name: \")\n",
    "\n",
    "if product_name in mydict.keys():\n",
    "    #mydict[product_name]=price\n",
    "    #print(f\"the price of {product_name} is Rs {price}\")\n",
    "    print(mydict[product_name])\n",
    "else:\n",
    "    print(\"product not available\")\n",
    "        \n",
    "    \n"
   ]
  },
  {
   "cell_type": "code",
   "execution_count": 32,
   "id": "5501501c",
   "metadata": {},
   "outputs": [
    {
     "name": "stdout",
     "output_type": "stream",
     "text": [
      " enter a key : 2\n",
      "Name: rishi, Age: 22, Address: Amravati, Qualification: entc\n"
     ]
    }
   ],
   "source": [
    "\"\"\"Q3 define a class \"Student\" with members\n",
    "\tname,age,address and qualification\n",
    "\t\n",
    "   define parameterized constructor and \"str\" member function\n",
    "   which returns all the members\n",
    "\n",
    "   create 4 objects of Student by passing values.\n",
    "\n",
    "now create a dictionary with rollno ( start from 1 ) as a key and \n",
    "student object as a value.\n",
    "\n",
    "accept a rollno from user and display all its details \n",
    "i.e. name,age,address and qualification.\n",
    "also display message \"student not found\" in case if rollno\n",
    "entered by user is not available as a key inside the dictionary.\"\"\"\n",
    "\n",
    "class Student:\n",
    "    def __init__(self, name, age, address, qualification):\n",
    "        self.name = name\n",
    "        self.age = age\n",
    "        self.address = address\n",
    "        self.qualification = qualification\n",
    "\n",
    "    def __str__(self):\n",
    "        return f\"Name: {self.name}, Age: {self.age}, Address: {self.address}, Qualification: {self.qualification}\"\n",
    "\n",
    "s1 = Student(\"kishor\", 20, \"Ahmednagar\", \"statistics\")\n",
    "s2 = Student(\"rishi\", 22, \"Amravati\", \"entc\")\n",
    "s3 = Student(\"pankaj\", 18, \"Buldhana\", \"machenical\")\n",
    "s4 = Student(\"prathamesh\", 19, \"Nashik\", \"Computer Science\")\n",
    "\n",
    "mydict={1:s1,2:s2,3:s3,4:s4}\n",
    "key_get=int(input(\" enter a key : \"))\n",
    "if key_get in mydict.keys():\n",
    "    print(mydict[key_get])\n",
    "else:\n",
    "    print(\"invalid\")\n"
   ]
  },
  {
   "cell_type": "code",
   "execution_count": 13,
   "id": "f2214f8d",
   "metadata": {
    "scrolled": true
   },
   "outputs": [
    {
     "name": "stdout",
     "output_type": "stream",
     "text": [
      "4\n",
      "{'Arham': 'Blue', 'Lisa': 'Black', 'Vinod': 'Purple', 'Jenny': 'Pink'}\n",
      "{'Arham': 'Blue', 'Lisa': 'Black', 'Vinod': 'Purple'}\n",
      "[('Arham', 'Blue'), ('Lisa', 'Black'), ('Vinod', 'Purple')]\n",
      "[('Lisa', 'Black'), ('Arham', 'Blue'), ('Vinod', 'Purple')]\n"
     ]
    }
   ],
   "source": [
    "\"\"\"Q4 Given a dictionary of students and their favourite colours: \n",
    "people={'Arham':'Blue','Lisa':'Yellow',''Vinod:'Purple','Jenny':'Pink'} \n",
    "1. Find out how many students are in the list \n",
    "2. Change Lisa’s favourite colour \n",
    "3. Remove 'Jenny' and her favourite color\n",
    "4. Sort and print students and their favourite colours alphabetically by name\"\"\"\n",
    "\n",
    "people={'Arham':'Blue','Lisa':'Yellow','Vinod':'Purple','Jenny':'Pink'}\n",
    "print(len(people))\n",
    "people['Lisa']='Black'\n",
    "print(people)\n",
    "people.pop('Jenny')\n",
    "print(people)\n",
    "\n",
    "sorted_people=sorted(people.items(),key=lambda x:x[0])\n",
    "print(sorted_people)\n",
    "sorted_people=sorted(people.items(),key=lambda x:x[1])\n",
    "print(sorted_people)"
   ]
  },
  {
   "cell_type": "markdown",
   "id": "9a55e15a",
   "metadata": {},
   "source": [
    "##### list Assignment"
   ]
  },
  {
   "cell_type": "code",
   "execution_count": 9,
   "id": "3288e619",
   "metadata": {},
   "outputs": [
    {
     "name": "stdout",
     "output_type": "stream",
     "text": [
      "enter number :9\n",
      "[10, 12, 13, 14]\n"
     ]
    }
   ],
   "source": [
    "\"\"\"Q1 Write a Python program to find all the values in a list are greater than a specified number.\"\"\"\n",
    "lst1=[]\n",
    "lst=[10,12,13,14,1,5,6,9]\n",
    "num=int(input(\"enter number :\"))\n",
    "for i in lst:\n",
    "       if i>num:\n",
    "            lst1.append(i)\n",
    "print(lst1)"
   ]
  },
  {
   "cell_type": "code",
   "execution_count": 14,
   "id": "0ed95d55",
   "metadata": {},
   "outputs": [
    {
     "name": "stdout",
     "output_type": "stream",
     "text": [
      "enter length : 5\n",
      "kishor\n",
      "prathamesh\n",
      "pankaj\n"
     ]
    }
   ],
   "source": [
    "\"\"\"Q2 Write a Python program to find the list of words that are longer than n from a given list of words.\"\"\"\n",
    "lst=[\"kishor\",\"rushi\",\"prathamesh\",\"pankaj\"]\n",
    "length=int(input(\"enter length : \"))\n",
    "for i in lst:\n",
    "    if len(i)>length:\n",
    "        print(i)\n",
    "        "
   ]
  },
  {
   "cell_type": "code",
   "execution_count": 16,
   "id": "5248bb4e",
   "metadata": {},
   "outputs": [
    {
     "name": "stdout",
     "output_type": "stream",
     "text": [
      "77\n"
     ]
    }
   ],
   "source": [
    "\"\"\"Q3 Write a Python program to get the largest number from a list \"\"\"\n",
    "\n",
    "lst=[12,15,44,77,33,36]\n",
    "for i in lst:\n",
    "    if i==max(lst):\n",
    "        print(i)"
   ]
  },
  {
   "cell_type": "code",
   "execution_count": 22,
   "id": "f72462ab",
   "metadata": {},
   "outputs": [
    {
     "name": "stdout",
     "output_type": "stream",
     "text": [
      "aba 1221 "
     ]
    }
   ],
   "source": [
    "\"\"\"Q4 Write a Python program to count the number of strings where the string length is 2 or more and the\n",
    "first and last character are same from a given list of strings. \n",
    "Sample List : ['abc', 'xyz', 'aba', '1221'] \"\"\"\n",
    "\n",
    "lst=['abc', 'xyz', 'aba', '1221']\n",
    "for i in lst:\n",
    "    if i.__len__()>=2 and i[0]==i[-1]:\n",
    "        print(i,end=\" \")\n",
    "\n",
    "    "
   ]
  },
  {
   "cell_type": "code",
   "execution_count": 26,
   "id": "bb6c33b6",
   "metadata": {},
   "outputs": [
    {
     "name": "stdout",
     "output_type": "stream",
     "text": [
      "120\n"
     ]
    }
   ],
   "source": [
    "\"\"\"Q5 Write a Python program to multiply all the items in a list.\"\"\"\n",
    "lst=[1,2,3,4,5]\n",
    "multi=1\n",
    "for i in lst:\n",
    "    multi=multi*i\n",
    "    \n",
    "print(multi)"
   ]
  },
  {
   "cell_type": "code",
   "execution_count": 19,
   "id": "a39c17e5",
   "metadata": {},
   "outputs": [
    {
     "name": "stdout",
     "output_type": "stream",
     "text": [
      "['Green', 'White', 'Black']\n"
     ]
    }
   ],
   "source": [
    "\"\"\"Q6 Write a Python program to print a specified list after removing the 0th, 4th and 5th elements. \n",
    "Sample List : ['Red', 'Green', 'White', 'Black', 'Pink', 'Yellow']\n",
    "Expected Output : ['Green', 'White', 'Black'] \"\"\"\n",
    "\n",
    "lst=['Red', 'Green', 'White', 'Black', 'Pink', 'Yellow']\n",
    "lst1=[]\n",
    "ind_del=[0,4,5]\n",
    "for i in range(len(lst)):\n",
    "    if i not in ind_del:\n",
    "        lst1.append(lst[i])\n",
    "print(lst1)"
   ]
  },
  {
   "cell_type": "code",
   "execution_count": 44,
   "id": "d8f1af10",
   "metadata": {},
   "outputs": [
    {
     "name": "stdout",
     "output_type": "stream",
     "text": [
      "[15, 17, 9, 23]\n"
     ]
    }
   ],
   "source": [
    "\"\"\"Q7 Write a Python program to print the numbers of a specified list after removing even numbers from it.\n",
    "Mylist = [10,12,15,17,18,9,23,56]\"\"\"\n",
    "\n",
    "lst = [10,12,15,17,18,9,23,56]\n",
    "lst1=[]\n",
    "for i in lst:\n",
    "    if i%2==0:\n",
    "        continue\n",
    "    else:\n",
    "        lst1.append(i)\n",
    "        \n",
    "print(lst1)"
   ]
  },
  {
   "cell_type": "code",
   "execution_count": 34,
   "id": "092e5ea4",
   "metadata": {},
   "outputs": [
    {
     "name": "stdout",
     "output_type": "stream",
     "text": [
      "[12, 15, 17, 9, 23]\n"
     ]
    }
   ],
   "source": [
    "lst = [10,12,15,17,18,9,23,56]\n",
    "for i in lst:\n",
    "    if i%2==0:\n",
    "        lst.remove(i)\n",
    "print(lst)"
   ]
  },
  {
   "cell_type": "code",
   "execution_count": 50,
   "id": "8c6c12ce",
   "metadata": {},
   "outputs": [
    {
     "name": "stdout",
     "output_type": "stream",
     "text": [
      "[15, 17, 9, 23]\n"
     ]
    }
   ],
   "source": [
    "Mylist = [10, 12, 15, 17, 18, 9, 23, 56]\n",
    "\n",
    "odd_numbers = list(filter(lambda x: x % 2 != 0, Mylist))\n",
    "\n",
    "print(odd_numbers)\n"
   ]
  },
  {
   "cell_type": "code",
   "execution_count": 60,
   "id": "29f700a1",
   "metadata": {},
   "outputs": [
    {
     "name": "stdout",
     "output_type": "stream",
     "text": [
      "Index: 0, Element: 1\n",
      "Index: 1, Element: 2\n",
      "Index: 2, Element: 3\n",
      "Index: 3, Element: 4\n",
      "Index: 4, Element: 5\n"
     ]
    }
   ],
   "source": [
    "\"\"\"Q8 Write a Python program access the index of a list.\n",
    "\toutput : all the elements along with their index\"\"\"\n",
    "list1 = [1, 2, 3, 4, 5]\n",
    "\n",
    "for i in range(len(list1)):\n",
    "    print(f\"Index: {i}, Element: {list1[i]}\")\n",
    "\n"
   ]
  },
  {
   "cell_type": "code",
   "execution_count": 62,
   "id": "17178fa3",
   "metadata": {},
   "outputs": [
    {
     "name": "stdout",
     "output_type": "stream",
     "text": [
      "enter a number: 2\n",
      "enter a number: 5\n",
      "enter a number: 6\n",
      "enter a number: 9\n",
      "enter a number: 8\n",
      "Index: 0, Element: 2\n",
      "Index: 1, Element: 5\n",
      "Index: 2, Element: 6\n",
      "Index: 3, Element: 9\n",
      "Index: 4, Element: 8\n"
     ]
    }
   ],
   "source": [
    "# Get the list from the user.\n",
    "list1 = []\n",
    "for i in range(5):\n",
    "    num=int(input(\"enter a number: \"))\n",
    "    list1.append(num)\n",
    "\n",
    "# Print the first 5 elements of the list along with their indices.\n",
    "for i in range(min(len(list1), 5)):\n",
    "      print(f\"Index: {i}, Element: {list1[i]}\")\n"
   ]
  },
  {
   "cell_type": "code",
   "execution_count": 38,
   "id": "0280409a",
   "metadata": {},
   "outputs": [
    {
     "name": "stdout",
     "output_type": "stream",
     "text": [
      "list is empty\n"
     ]
    }
   ],
   "source": [
    "\"\"\"Q9 Write a Python program to check a list is empty or not\"\"\"\n",
    "\n",
    "lst=[]\n",
    "if len(lst)==0:\n",
    "    print(\"list is empty\")\n",
    "else:\n",
    "    print(\"list is not empty \",lst)"
   ]
  },
  {
   "cell_type": "code",
   "execution_count": 40,
   "id": "b1f58484",
   "metadata": {},
   "outputs": [
    {
     "name": "stdout",
     "output_type": "stream",
     "text": [
      "Enter an index position: 4\n",
      "Available\n",
      "Number on this index:  50\n"
     ]
    }
   ],
   "source": [
    "\"\"\"Q10 Write a Python program to check whether the n-th \n",
    "element exists in a given list.\"\"\"\n",
    "\n",
    "Mylist = [10,20,30,40,50]\n",
    "num=int(input(\"Enter an index position: \"))\n",
    "\n",
    "if 0<= num <= len(Mylist):\n",
    "    print(\"Available\")\n",
    "    print(\"Number on this index: \",Mylist[num])\n",
    "else:\n",
    "    print(\"Not\")"
   ]
  },
  {
   "cell_type": "code",
   "execution_count": null,
   "id": "cd095717",
   "metadata": {},
   "outputs": [],
   "source": []
  },
  {
   "cell_type": "code",
   "execution_count": 18,
   "id": "fc090927",
   "metadata": {},
   "outputs": [
    {
     "name": "stdout",
     "output_type": "stream",
     "text": [
      "[10, 20, 30, 40, 50]\n"
     ]
    }
   ],
   "source": [
    "\"\"\"Q11 Write a Python program to clone or copy a list \"\"\"\n",
    "\n",
    "Mylist = [10,20,30,40,50]\n",
    "\n",
    "Mylist2 = Mylist.copy()\n",
    "\n",
    "print(Mylist2)"
   ]
  },
  {
   "cell_type": "code",
   "execution_count": 19,
   "id": "fdceb89d",
   "metadata": {},
   "outputs": [
    {
     "name": "stdout",
     "output_type": "stream",
     "text": [
      "[{'Color_name': 'Black', 'Colour_code': '#000000'}, {'Color_name': 'Red', 'Colour_code': '#FF0000'}, {'Color_name': 'Maroon', 'Colour_code': '#8000'}, {'Color_name': 'yellow', 'Colour_code': '#FFFF00'}]\n"
     ]
    }
   ],
   "source": [
    "\"\"\"Q12 Write a Python program to convert list to list of dictionaries. \n",
    "Sample lists: [\"Black\", \"Red\", \"Maroon\", \"Yellow\"], [\"#000000\",\n",
    "\"#FF0000\",\"#800000\", \"#FFFF00\"]\"\"\"\n",
    "\n",
    "\n",
    "mylist1=[\"Black\",\"Red\",\"Maroon\",\"yellow\"]\n",
    "mylist2=['#000000','#FF0000','#8000','#FFFF00']\n",
    "mylist3=[{\"Color_name\": i, \"Colour_code\": j} for i , j in zip(mylist1,mylist2)]\n",
    "print(mylist3)"
   ]
  },
  {
   "cell_type": "code",
   "execution_count": 22,
   "id": "9591fd15",
   "metadata": {},
   "outputs": [
    {
     "name": "stdout",
     "output_type": "stream",
     "text": [
      "Enter The Element To Find The Index: 20\n",
      "1\n"
     ]
    }
   ],
   "source": [
    "\"\"\"Q13 Write a Python program to find\n",
    "the index of an item in a specified list.\"\"\"\n",
    "mylist = [10,20,30,40,50]\n",
    "\n",
    "user_input=int(input(\"Enter The Element To Find The Index: \"))\n",
    "if user_input in mylist:\n",
    "     print(mylist.index(user_input))\n",
    "else:\n",
    "    print(\"number is not available in list\")"
   ]
  },
  {
   "cell_type": "code",
   "execution_count": 23,
   "id": "c8e3be65",
   "metadata": {},
   "outputs": [
    {
     "name": "stdout",
     "output_type": "stream",
     "text": [
      "['emp1', 'emp2', 'emp3', 'emp4']\n"
     ]
    }
   ],
   "source": [
    "\"\"\"Q14 Write a Python program to insert a given string at the \n",
    "beginning of all items in a list\"\"\"\n",
    "\n",
    "Sample_list = [1,2,3,4]\n",
    "\n",
    "String_name=\"emp\"\n",
    "\n",
    "Mylist= [String_name+str(i) for i in Sample_list]\n",
    "    \n",
    "print(Mylist)"
   ]
  },
  {
   "cell_type": "code",
   "execution_count": 26,
   "id": "06ad687b",
   "metadata": {},
   "outputs": [
    {
     "name": "stdout",
     "output_type": "stream",
     "text": [
      "['emp1', 'emp2', 'emp3', 'emp4']\n"
     ]
    }
   ],
   "source": [
    "lst=[]\n",
    "Sample_list = [1,2,3,4]\n",
    "String_name=\"emp\"\n",
    "for i in Sample_list:\n",
    "    lst.append(String_name+str(i))\n",
    "print(lst)"
   ]
  },
  {
   "cell_type": "code",
   "execution_count": 28,
   "id": "42bb0887",
   "metadata": {},
   "outputs": [
    {
     "name": "stdout",
     "output_type": "stream",
     "text": [
      "Item from list1: 1, Item from list2: 5\n",
      "Item from list1: 2, Item from list2: 6\n",
      "Item from list1: 3, Item from list2: 7\n",
      "Item from list1: 4, Item from list2: 8\n"
     ]
    }
   ],
   "source": [
    "\"\"\"Q15 Write a Python program to iterate over two lists simultaneously\"\"\"\n",
    "Sample_list1 = [1,2,3,4]\n",
    "Sample_list2 = [5,6,7,8]\n",
    "for i, j in zip(Sample_list1, Sample_list2):\n",
    "    print(f'Item from list1: {i}, Item from list2: {j}')"
   ]
  },
  {
   "cell_type": "code",
   "execution_count": 29,
   "id": "b80a382a",
   "metadata": {},
   "outputs": [
    {
     "name": "stdout",
     "output_type": "stream",
     "text": [
      "['A', 'B', 'C']\n",
      "\n",
      "\n",
      "['kishor', 'xyz']\n"
     ]
    }
   ],
   "source": [
    "\"\"\"Q16 Write a Python program to print a nested lists\n",
    "(each list on a new line) using the print() function\"\"\"\n",
    "\n",
    "mylist=[1,2,['A','B','C'],4,[\"kishor\",\"xyz\"],7,6]\n",
    "print(mylist[2])\n",
    "print(\"\\n\")\n",
    "print(mylist[4])"
   ]
  },
  {
   "cell_type": "code",
   "execution_count": 31,
   "id": "0c1577f7",
   "metadata": {},
   "outputs": [
    {
     "name": "stdout",
     "output_type": "stream",
     "text": [
      "[1, 2, 3, 4, 5]\n"
     ]
    }
   ],
   "source": [
    "\"\"\"Q17 Write a Python program to remove duplicates from a list.\"\"\"\n",
    "Mylist = [1,2,3,3,4,4,5]\n",
    "\n",
    "Mylist1 = set(Mylist)\n",
    "Mylist2 = list(Mylist1)\n",
    "\n",
    "print(Mylist2)"
   ]
  },
  {
   "cell_type": "code",
   "execution_count": 20,
   "id": "53dc04b3",
   "metadata": {},
   "outputs": [
    {
     "name": "stdout",
     "output_type": "stream",
     "text": [
      "[1, 3, 5, 7, 9, 2, 4, 6, 8]\n"
     ]
    }
   ],
   "source": [
    "\"\"\"Q18 Write a Python program to replace the last element in a list with another list. \n",
    "Sample data : [1, 3, 5, 7, 9, 10], [2, 4, 6, 8]\n",
    "Expected Output: [1, 3, 5, 7, 9, 2, 4, 6, 8]\"\"\"\n",
    "\n",
    "first=[1, 3, 5, 7, 9, 10]\n",
    "second=[2, 4, 6, 8]\n",
    "first[-1:]=second\n",
    "print(first)\n",
    "    "
   ]
  },
  {
   "cell_type": "code",
   "execution_count": 42,
   "id": "8289d858",
   "metadata": {},
   "outputs": [
    {
     "name": "stdout",
     "output_type": "stream",
     "text": [
      "False\n"
     ]
    }
   ],
   "source": [
    "\"\"\"Q19 Write a Python function that takes two lists and \n",
    "returns True if they have at least one common member\"\"\"\n",
    "def fun(lst1,lst2):\n",
    "    for i in lst1:\n",
    "        for j in lst2:\n",
    "            if i==j:\n",
    "                return True\n",
    "            \n",
    "    return False\n",
    "result=fun([1,3,5],[2,4,6,8,7])\n",
    "print(result)\n"
   ]
  },
  {
   "cell_type": "code",
   "execution_count": 111,
   "id": "4097c7e1",
   "metadata": {},
   "outputs": [
    {
     "name": "stdout",
     "output_type": "stream",
     "text": [
      "[2, 3, 3, 2]\n",
      "2 is repeate 2 times\n"
     ]
    }
   ],
   "source": [
    "list1 = [1, 2, 3, 4, 5, 3, 2]\n",
    "lst = []\n",
    "for i in list1:\n",
    "    if list1.count(i) > 1:\n",
    "        lst.append(i)\n",
    "print(lst)\n",
    "\n",
    "print(f\"{i} is repeate {lst.count(i)} times\")\n"
   ]
  },
  {
   "cell_type": "markdown",
   "id": "0ecb9492",
   "metadata": {},
   "source": [
    "#### DICTIONARY_ASSIGNMENT"
   ]
  },
  {
   "cell_type": "code",
   "execution_count": 42,
   "id": "cc2dd654",
   "metadata": {},
   "outputs": [
    {
     "name": "stdout",
     "output_type": "stream",
     "text": [
      "15\n",
      "25\n",
      "35\n"
     ]
    }
   ],
   "source": [
    "\"\"\"Q1 Write a Python program to create a dictionary of keys x, y, and z \n",
    "where each key has as value a list from 11-20, 21-30, and 31-40 respectively. \n",
    "Access the fifth value of each key from the dictionary. \n",
    "{'x': [11, 12, 13, 14, 15, 16, 17, 18, 19],\n",
    "'y': [21, 22, 23, 24, 25, 26, 27, 28, 29],\n",
    "'z': [31, 32, 33, 34, 35, 36, 37, 38, 39]}\n",
    "15\n",
    "25\n",
    "35\"\"\"\n",
    "\n",
    "mydict={'x': [11, 12, 13, 14, 15, 16, 17, 18, 19],\n",
    "        'y': [21, 22, 23, 24, 25, 26, 27, 28, 29],\n",
    "        'z': [31, 32, 33, 34, 35, 36, 37, 38, 39]}\n",
    "\n",
    "print(mydict['x'][4])\n",
    "print(mydict['y'][4])\n",
    "print(mydict['z'][4])"
   ]
  },
  {
   "cell_type": "code",
   "execution_count": 2,
   "id": "3e59c794",
   "metadata": {},
   "outputs": [
    {
     "name": "stdout",
     "output_type": "stream",
     "text": [
      "{0: 10, 1: 20, 2: 30}\n"
     ]
    }
   ],
   "source": [
    "\"\"\"Q2 Write a Python script to add a key to a dictionary. \n",
    "Sample Dictionary : {0: 10, 1: 20}\n",
    "Expected Result : {0: 10, 1: 20, 2: 30}\"\"\"\n",
    "\n",
    "mydict={0: 10, 1: 20}\n",
    "#mydict1={2:30}\n",
    "mydict.update({2:30})\n",
    "print(mydict)"
   ]
  },
  {
   "cell_type": "code",
   "execution_count": 46,
   "id": "b848b331",
   "metadata": {},
   "outputs": [
    {
     "name": "stdout",
     "output_type": "stream",
     "text": [
      "Enter a key: 2\n",
      "key 2 is already exists and value is sagar \n"
     ]
    }
   ],
   "source": [
    "\"\"\"Q3 Write a Python script to\n",
    "check whether a given key already exists in a dictionary\"\"\"\n",
    "\n",
    "mydict={1:'kishor',2:'sagar',3:'pankaj',4:'rushi'}\n",
    "key=int(input(\"Enter a key: \"))\n",
    "if key in mydict:\n",
    "    print(f\"key {key} is already exists and value is {mydict[key]} \")\n",
    "    \n",
    "else:\n",
    "    print(\"key not found\")"
   ]
  },
  {
   "cell_type": "code",
   "execution_count": 59,
   "id": "6d58dcef",
   "metadata": {},
   "outputs": [
    {
     "name": "stdout",
     "output_type": "stream",
     "text": [
      "2\n"
     ]
    }
   ],
   "source": [
    "\"\"\"Q4 Write a Python program to count the values associated with key in a dictionary. \n",
    "Sample data: = [{'id': 1, 'success': True, 'name': 'Lary'}, {'id': 2, 'success': False, 'name': 'Rabi'}, {'id': 3, 'success': True, 'name': 'Alex'}]\n",
    "Expected result: Count of how many dictionaries have success as True\"\"\"\n",
    "mydict=[{'id': 1, 'success': True, 'name': 'Lary'},{'id': 2, 'success': False, 'name': 'Rabi'},{'id': 3, 'success': True, 'name': 'Alex'}]\n",
    "count=0\n",
    "key='success'\n",
    "for i in mydict:\n",
    "    if key in mydict[i] and mydict[i][key]==True:\n",
    "        count+=1\n",
    "print(count)\n",
    "        \n"
   ]
  },
  {
   "cell_type": "code",
   "execution_count": 4,
   "id": "4a960ddd",
   "metadata": {},
   "outputs": [
    {
     "name": "stdout",
     "output_type": "stream",
     "text": [
      "The count of dictionaries with success as True is: 2\n"
     ]
    }
   ],
   "source": [
    "mydict={'id': 1, 'success': True, 'name': 'Lary'},{'id': 2, 'success': False, 'name': 'Rabi'},{'id': 3, 'success': True, 'name': 'Alex'}\n",
    "\n",
    "count = 0\n",
    "for item in mydict:\n",
    "    if item['success'] == True:\n",
    "        count += 1\n",
    "\n",
    "# Print the count\n",
    "print(\"The count of dictionaries with success as True is:\", count)"
   ]
  },
  {
   "cell_type": "code",
   "execution_count": 6,
   "id": "97f54927",
   "metadata": {},
   "outputs": [
    {
     "data": {
      "text/plain": [
       "{'Class-V': {1}, 'Class-VI': {2}, 'Class-VII': {2}, 'Class-VIII': {3}}"
      ]
     },
     "execution_count": 6,
     "metadata": {},
     "output_type": "execute_result"
    }
   ],
   "source": [
    "\"\"\"Q5 Write a Python program to create a dictionary from two lists\n",
    "without losing duplicate values. \n",
    "Sample lists: ['Class-V', 'Class-VI', 'Class-VII', 'Class-VIII'], [1, 2, 2, 3]\n",
    "Expected Output: {'Class-VII': {2}, 'Class-VI': {2}, 'Class-VIII': {3}, 'Class-V': {1}})\"\"\"\n",
    "list1=['Class-V', 'Class-VI', 'Class-VII', 'Class-VIII']\n",
    "list2= [1, 2, 2, 3]\n",
    "mylist={key:{values}for (key,values) in zip(list1,list2)}\n",
    "mylist"
   ]
  },
  {
   "cell_type": "code",
   "execution_count": 68,
   "id": "9edeaa16",
   "metadata": {},
   "outputs": [
    {
     "name": "stdout",
     "output_type": "stream",
     "text": [
      "Dictionary is empty\n"
     ]
    }
   ],
   "source": [
    "\"\"\"Q6 Write a Python program to check a dictionary is empty or not\"\"\"\n",
    "\n",
    "mydict={}\n",
    "if len(mydict)==0:\n",
    "    print(\"Dictionary is empty\")\n",
    "else:\n",
    "    print(\"Dictionary is not empty\")"
   ]
  },
  {
   "cell_type": "code",
   "execution_count": 43,
   "id": "5a47cc7e",
   "metadata": {},
   "outputs": [
    {
     "name": "stdout",
     "output_type": "stream",
     "text": [
      "equal key is a and addition of values 400\n",
      "equal key is b and addition of values 400\n"
     ]
    }
   ],
   "source": [
    "\"\"\"Q7 Write a Python program to combine two dictionary adding values for common keys. \n",
    "d1 = {'a': 100, 'b': 200, 'c':300}\n",
    "d2 = {'a': 300, 'b': 200, 'd':400}\n",
    "Sample output: Counter({'a': 400, 'b': 400, 'd': 400, 'c': 300}) \"\"\"\n",
    "\n",
    "d1 = {'a': 100, 'b': 200, 'c':300}\n",
    "d2 = {'a': 300, 'b': 200, 'd':400}\n",
    "for i,j in zip(d1,d2):\n",
    "    if i==j:\n",
    "        print(f\"equal key is {j} and addition of values {d1[i]+d2[j]}\")"
   ]
  },
  {
   "cell_type": "code",
   "execution_count": 71,
   "id": "ac6ef8e7",
   "metadata": {},
   "outputs": [
    {
     "name": "stdout",
     "output_type": "stream",
     "text": [
      "Counter({'a': 400, 'b': 400, 'd': 400, 'c': 300})\n"
     ]
    }
   ],
   "source": [
    "from collections import Counter\n",
    "d1 = {'a': 100, 'b': 200, 'c':300}\n",
    "d2 = {'a': 300, 'b': 200, 'd':400}\n",
    "d3 = {}\n",
    "for key in d1:\n",
    "      if key in d2:\n",
    "        d3[key] = d1[key] + d2[key]\n",
    "        else:\n",
    "            d3[key] = d1[key]\n",
    "for key in d2:\n",
    "      if key not in d3:\n",
    "    d3[key] = d2[key]\n",
    "d4=Counter(d3)\n",
    "print(d4)\n"
   ]
  },
  {
   "cell_type": "code",
   "execution_count": 86,
   "id": "12ec8c75",
   "metadata": {},
   "outputs": [
    {
     "name": "stdout",
     "output_type": "stream",
     "text": [
      "Total No. Of Items In List : 10\n"
     ]
    }
   ],
   "source": [
    "\"\"\"Q8 Write a Python program to count number of items in a\n",
    "dictionary value that is a list\n",
    "\n",
    "sample data:\n",
    "\n",
    "mydictionary1={'Names':['Rohit','Ganesh','SRK','Akshay'],\n",
    "'age':40,'addresses':['Mumbai','Delhi','Kolkara','Banglore'],\n",
    "'emails':['actor.gmail.com','movie.gmail.com']}\n",
    "\n",
    "output: 10\"\"\"\n",
    "\n",
    "mydictionary1={'Names':['Rohit','Ganesh','SRK','Akshay'],'age':40,'addresses':['Mumbai','Delhi','Kolkara','Banglore'],'emails':['actor.gmail.com','movie.gmail.com']}\n",
    "l1=len(mydictionary1['Names'])\n",
    "l2=len(mydictionary1['addresses'])\n",
    "l3= len(mydictionary1['emails'])\n",
    "print(\"Total No. Of Items In List :\",l1+l2+l3)\n"
   ]
  },
  {
   "cell_type": "code",
   "execution_count": 92,
   "id": "e0c7ce07",
   "metadata": {},
   "outputs": [
    {
     "name": "stdout",
     "output_type": "stream",
     "text": [
      "10\n"
     ]
    }
   ],
   "source": [
    "mydictionary1={'Names':['Rohit','Ganesh','SRK','Akshay'],\n",
    "'age':40,'addresses':['Mumbai','Delhi','Kolkara','Banglore'],\n",
    "'emails':['actor.gmail.com','movie.gmail.com']}\n",
    "\n",
    "count = 0\n",
    "for i in mydictionary1:\n",
    "    if type(mydictionary1[i])==list:\n",
    "        count+=len(mydictionary1[i])\n",
    "    \n",
    "print(count)\n"
   ]
  },
  {
   "cell_type": "code",
   "execution_count": 93,
   "id": "785f78e3",
   "metadata": {},
   "outputs": [
    {
     "name": "stdout",
     "output_type": "stream",
     "text": [
      "Counter({'r': 2, 'e': 2, 's': 2, 'w': 1, '3': 1, 'o': 1, 'u': 1, 'c': 1})\n"
     ]
    }
   ],
   "source": [
    "\"\"\"Q9 Write a Python program to create a dictionary from a string. \n",
    "Note: Track the count of the letters from the string.\n",
    "Sample string : 'w3resource'\n",
    "Expected output: {'3': 1, 's': 1, 'r': 2, 'u': 1, 'w': 1, 'c': 1, 'e': 2, 'o': 1}\"\"\"\n",
    "\n",
    "\n",
    "from collections import Counter\n",
    "mystring=\"w3resources\"\n",
    "mystring1=Counter(mystring)\n",
    "print(mystring1)\n"
   ]
  },
  {
   "cell_type": "code",
   "execution_count": 94,
   "id": "65687112",
   "metadata": {},
   "outputs": [
    {
     "name": "stdout",
     "output_type": "stream",
     "text": [
      "dict_keys([1, 3, 5, 2])\n",
      "dict_values(['xyz', 'abc', 'pqr', 'xzz'])\n",
      "4\n"
     ]
    }
   ],
   "source": [
    "\"\"\"Q10 Write a Python program to get the key, value and item in a dictionary\n",
    "\"\"\"\n",
    "\n",
    "mydictionary={1:'xyz',3:'abc',5:'pqr',2:'xzz'}\n",
    "print(mydictionary.keys())\n",
    "print(mydictionary.values())\n",
    "print(len(mydictionary))\n"
   ]
  },
  {
   "cell_type": "code",
   "execution_count": 113,
   "id": "667ce03b",
   "metadata": {},
   "outputs": [
    {
     "name": "stdout",
     "output_type": "stream",
     "text": [
      "400\n",
      "100\n"
     ]
    }
   ],
   "source": [
    "\"\"\"Q11 Write a Python program to get the \n",
    "maximum and minimum value in a dictionary\"\"\"\n",
    "\n",
    "mydictionary={1:100,3:200,5:300,2:400}\n",
    "print(max(mydictionary.values())) # If We Remove .values() It Will Get Us The key\n",
    "print(min(mydictionary.values()))"
   ]
  },
  {
   "cell_type": "code",
   "execution_count": 123,
   "id": "2b678dae",
   "metadata": {},
   "outputs": [
    {
     "name": "stdout",
     "output_type": "stream",
     "text": [
      "{1: 'abc', 2: 'def', 3: 'pqr', 4: 'lmn', 5: 'xyz', 6: 'uvw'}\n"
     ]
    }
   ],
   "source": [
    "\"\"\"Q12 Write a Python program to map two lists into a dictionary. \n",
    "\n",
    "e.g. \n",
    "given\n",
    "prnnos=[1,2,3,4,5,6]\n",
    "names=['abc','def','pqr','lmn','xyz','uvw']\n",
    "\n",
    "output:\n",
    "{1: 'abc', 2: 'def', 3: 'pqr', 4: 'lmn', 5: 'xyz', 6: 'uvw'}\n",
    "\"\"\"\n",
    "\n",
    "\n",
    "prnnos=[1,2,3,4,5,6]\n",
    "names=['abc','def','pqr','lmn','xyz','uvw']\n",
    "mydict={i:j for(i,j) in zip(prnnos,names)}\n",
    "print(mydict)"
   ]
  },
  {
   "cell_type": "code",
   "execution_count": 45,
   "id": "92583bd1",
   "metadata": {},
   "outputs": [
    {
     "name": "stdout",
     "output_type": "stream",
     "text": [
      "key1: 1 is present in both x and y\n"
     ]
    }
   ],
   "source": [
    "\"\"\"Q13 Write a Python program to match key values in two dictionaries. \n",
    "Sample dictionary: {'key1': 1, 'key2': 3, 'key3': 2}, {'key1': 1, 'key2': 2}\n",
    "Expected output: key1: 1 is present in both x and y\"\"\"\n",
    "\n",
    "mydict={'key1': 1, 'key2': 3, 'key3': 2}\n",
    "mydict1={'key1': 1, 'key2': 2}\n",
    "\n",
    "for key in mydict:\n",
    "    if key in mydict1 and mydict[key]== mydict1[key]:\n",
    "        print(f\"{key}: {mydict[key]} is present in both x and y\")"
   ]
  },
  {
   "cell_type": "code",
   "execution_count": 131,
   "id": "31eec2a3",
   "metadata": {},
   "outputs": [
    {
     "name": "stdout",
     "output_type": "stream",
     "text": [
      "\n",
      "Rohit:\n",
      "\n",
      "runs: \n",
      "10000\n",
      "\n",
      "centuries: \n",
      "15\n",
      "\n",
      "Virat:\n",
      "\n",
      "runs: \n",
      "12000\n",
      "\n",
      "centuries: \n",
      "18\n"
     ]
    }
   ],
   "source": [
    "\"\"\"Q14  Write a Python program to print a dictionary line by line. \n",
    "\n",
    "Players={'Rohit':{'runs':10000,'centuries':15},'Virat':{'runs':12000,'centuries':18}}\n",
    "\n",
    "expected output:\n",
    "\n",
    "Rohit\n",
    "runs :\t 10000\n",
    "centuries :\t 15\n",
    "Virat\n",
    "runs :\t 12000\n",
    "centuries :\t 18\n",
    "\"\"\"\n",
    "Players={'Rohit':{'runs':10000,'centuries':15},'Virat':{'runs':12000,'centuries':18}}\n",
    "for key , value in Players.items():\n",
    "    print(f\"\\n{key}:\")\n",
    "    for key1,value1 in value.items():\n",
    "        print(f\"\\n{key1}: \\n{value1}\")\n"
   ]
  },
  {
   "cell_type": "code",
   "execution_count": 132,
   "id": "23993ad2",
   "metadata": {},
   "outputs": [
    {
     "name": "stdout",
     "output_type": "stream",
     "text": [
      "{2: 'xyz', 3: 'pqr', 4: 'mno'}\n"
     ]
    }
   ],
   "source": [
    "\"\"\"Q15 Write a Python program to remove a key from a dictionary\n",
    "\"\"\"\n",
    "\n",
    "mydict={1:\"abc\",2:\"xyz\",3:\"pqr\",4:\"mno\"}\n",
    "mydict.pop(1)\n",
    "print(mydict)"
   ]
  },
  {
   "cell_type": "code",
   "execution_count": 133,
   "id": "f0b65f1c",
   "metadata": {},
   "outputs": [
    {
     "name": "stdout",
     "output_type": "stream",
     "text": [
      "{'d01': 'Abc', 'd02': 'Xyz', 'd03': 'Pqr'}\n"
     ]
    }
   ],
   "source": [
    "\"\"\"Q16  Write a Python program to remove spaces from dictionary keys. \n",
    "\n",
    "Students={'d 01':'Abc','d 0 2':'Xyz','d0 3':'Pqr'}\n",
    "\n",
    "output:\n",
    "\n",
    "{'d01': 'Abc', 'd02': 'Xyz', 'd03': 'Pqr'}\n",
    "\"\"\"\n",
    "\n",
    "\n",
    "Students={'d 01':'Abc','d 0 2':'Xyz','d0 3':'Pqr'}\n",
    "new_student={}\n",
    "for key in Students:\n",
    "    new_key= key.replace(\" \",\"\")\n",
    "    new_student[new_key] = Students[key]\n",
    "Students = new_student\n",
    "print(Students)"
   ]
  },
  {
   "cell_type": "code",
   "execution_count": 134,
   "id": "ebb278e7",
   "metadata": {},
   "outputs": [
    {
     "name": "stdout",
     "output_type": "stream",
     "text": [
      "640\n"
     ]
    }
   ],
   "source": [
    "\"\"\"Q17 Write a Python program to sum all the items in a dictionary\"\"\"\n",
    "\n",
    "mydict={'A':100,'B':200,'C':300,'D':40}\n",
    "sum=0\n",
    "for value in mydict.values():\n",
    "    sum +=  value\n",
    "print(sum)"
   ]
  },
  {
   "cell_type": "code",
   "execution_count": 135,
   "id": "469b5321",
   "metadata": {},
   "outputs": [
    {
     "name": "stdout",
     "output_type": "stream",
     "text": [
      "{1: 1, 2: 4, 3: 9, 4: 16, 5: 25, 6: 36, 7: 49, 8: 64, 9: 81, 10: 100, 11: 121, 12: 144}\n"
     ]
    }
   ],
   "source": [
    "\"\"\"Q18 Write a Python script to merge two Python dictionaries. \n",
    "\n",
    "mydictionary1={1: 1, 2: 4, 3: 9, 4: 16, 5: 25, 6: 36}\n",
    "mydictionary2={7: 49, 8: 64, 9: 81, 10: 100, 11: 121, 12: 144}\n",
    "\n",
    "output:\n",
    "\n",
    "{1: 1, 2: 4, 3: 9, 4: 16, 5: 25, 6: 36, 7: 49, 8: 64, 9: 81, 10: 100, 11: 121, 12: 144}\n",
    "\n",
    "\"\"\"\n",
    "\n",
    "\n",
    "mydictionary1={1: 1, 2: 4, 3: 9, 4: 16, 5: 25, 6: 36}\n",
    "mydictionary2={7: 49, 8: 64, 9: 81, 10: 100, 11: 121, 12: 144}\n",
    "mydictionary1.update(mydictionary2)\n",
    "print(mydictionary1)"
   ]
  },
  {
   "cell_type": "code",
   "execution_count": 136,
   "id": "17941896",
   "metadata": {},
   "outputs": [
    {
     "name": "stdout",
     "output_type": "stream",
     "text": [
      "{1: 10, 2: 20, 3: 30, 4: 40, 5: 50, 6: 60}\n"
     ]
    }
   ],
   "source": [
    "\"\"\"Q19 Write a Python script to concatenate following dictionaries to create a new one. \n",
    "Sample Dictionary :\n",
    "dic1={1:10, 2:20}\n",
    "dic2={3:30, 4:40}\n",
    "dic3={5:50,6:60}\n",
    "Expected Result : {1: 10, 2: 20, 3: 30, 4: 40, 5: 50, 6: 60}\n",
    "\"\"\"\n",
    "\n",
    "dict1={1:10, 2:20}\n",
    "dict2={3:30, 4:40}\n",
    "dict3={5:50,6:60}\n",
    "dict1.update(dict2)\n",
    "dict1.update(dict3)\n",
    "print(dict1)\n"
   ]
  },
  {
   "cell_type": "code",
   "execution_count": null,
   "id": "8fa1002c",
   "metadata": {},
   "outputs": [],
   "source": []
  }
 ],
 "metadata": {
  "kernelspec": {
   "display_name": "Python 3 (ipykernel)",
   "language": "python",
   "name": "python3"
  },
  "language_info": {
   "codemirror_mode": {
    "name": "ipython",
    "version": 3
   },
   "file_extension": ".py",
   "mimetype": "text/x-python",
   "name": "python",
   "nbconvert_exporter": "python",
   "pygments_lexer": "ipython3",
   "version": "3.11.5"
  }
 },
 "nbformat": 4,
 "nbformat_minor": 5
}
