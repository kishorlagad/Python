{
 "cells": [
  {
   "cell_type": "code",
   "execution_count": 1,
   "id": "2d24742c",
   "metadata": {},
   "outputs": [
    {
     "name": "stdout",
     "output_type": "stream",
     "text": [
      "Enter the choice: 3\n",
      "delete\n"
     ]
    }
   ],
   "source": [
    "#### 1) define 3 functions \"add()\",\"modify()\" and \"delete()\" with just a print message.\n",
    "#now accept input from user as a number. if the number entered is 1, call \"add()\"\n",
    "#if it is 2, call \"modify()\" if it is 3, call \"delete()\" [ hint: use \"match... case\" ]\n",
    "num=int(input(\"Enter the choice: \"))\n",
    "\n",
    "def add():\n",
    "    print(\"Add\")\n",
    "def modify():\n",
    "    print(\"modify\")\n",
    "def delete():\n",
    "    print(\"delete\")\n",
    "    \n",
    "match num :\n",
    "    case 1:add()\n",
    "    \n",
    "    case 2:modify()\n",
    "    \n",
    "    case 3:delete()\n",
    "    \n",
    "    case _ :print(\"enter correct number\")"
   ]
  },
  {
   "cell_type": "code",
   "execution_count": 2,
   "id": "ea992102",
   "metadata": {},
   "outputs": [
    {
     "name": "stdout",
     "output_type": "stream",
     "text": [
      "Enter a number5\n"
     ]
    },
    {
     "data": {
      "text/plain": [
       "25"
      ]
     },
     "execution_count": 2,
     "metadata": {},
     "output_type": "execute_result"
    }
   ],
   "source": [
    "#2) define a function which accepts a number and return its square.\n",
    "\n",
    "num=int(input(\"Enter a number\"))\n",
    "def square():\n",
    "    return num*num\n",
    "square()\n"
   ]
  },
  {
   "cell_type": "code",
   "execution_count": 3,
   "id": "32235898",
   "metadata": {},
   "outputs": [
    {
     "name": "stdout",
     "output_type": "stream",
     "text": [
      "k\n",
      "kishor\n",
      "22\n"
     ]
    }
   ],
   "source": [
    "#3) define a function which accepts character,int,string and display them.\n",
    "\n",
    "def accept(*var):\n",
    "    for i in var:\n",
    "        print(i)\n",
    "accept('k',\"kishor\",22)\n",
    "    "
   ]
  },
  {
   "cell_type": "code",
   "execution_count": 4,
   "id": "e3080e0f",
   "metadata": {},
   "outputs": [
    {
     "name": "stdout",
     "output_type": "stream",
     "text": [
      "in myfun2\n",
      "in myfun1\n"
     ]
    }
   ],
   "source": [
    "#4) define \"myfun1()\" with a print statement. now define \"myfun2()\" which should invoke \"myfun1()\" function. invoke myfun2()\n",
    "\n",
    "def myfun1():\n",
    "    print(\"in myfun1\")\n",
    "    \n",
    "def myfun2():\n",
    "    print(\"in myfun2\")\n",
    "    myfun1()\n",
    "    \n",
    "myfun2()\n"
   ]
  },
  {
   "cell_type": "code",
   "execution_count": 5,
   "id": "68ae7b4d",
   "metadata": {},
   "outputs": [
    {
     "name": "stdout",
     "output_type": "stream",
     "text": [
      "Enter number5\n"
     ]
    },
    {
     "data": {
      "text/plain": [
       "1"
      ]
     },
     "execution_count": 5,
     "metadata": {},
     "output_type": "execute_result"
    }
   ],
   "source": [
    "\"\"\"Q5) define a function to accept a number. \n",
    "This function should return 1 if a number passed is more than 0\n",
    "return -1 if a number passed is less than 0 , else it should return 0.\"\"\"\n",
    "\n",
    "num=int(input(\"Enter number\"))\n",
    "def accept():\n",
    "    if num>0:\n",
    "        return 1\n",
    "    elif num<0:\n",
    "        return -1\n",
    "    else:\n",
    "        return 0\n",
    "\n",
    "accept()\n"
   ]
  },
  {
   "cell_type": "code",
   "execution_count": 6,
   "id": "9aff9bc9",
   "metadata": {},
   "outputs": [
    {
     "name": "stdout",
     "output_type": "stream",
     "text": [
      "enter a char: k\n",
      "K "
     ]
    }
   ],
   "source": [
    "#Q-6) define a function which accepts a character and return toggle of it\n",
    "\n",
    "def accept():\n",
    "    char=input(\"enter a char: \")\n",
    "    if char.isupper():\n",
    "         char=char.lower()\n",
    "    else:\n",
    "        char=char.upper()\n",
    "            \n",
    "    print(char)\n",
    "        \n",
    "\n",
    "accept()"
   ]
  },
  {
   "cell_type": "code",
   "execution_count": 7,
   "id": "8c1ceeaa",
   "metadata": {},
   "outputs": [
    {
     "name": "stdout",
     "output_type": "stream",
     "text": [
      "enter a string: kishor\n",
      "KISHOR\n"
     ]
    }
   ],
   "source": [
    "\"\"\"Q7) define a function which accepts a string , toggle and return it.\n",
    "[ hint :  use \"swapcase()\" function of string ]\n",
    "\"\"\"\n",
    "\n",
    "def accept():\n",
    "    char=input(\"enter a string: \")\n",
    "    char=char.swapcase()\n",
    "    print(char)\n",
    "accept()\n"
   ]
  },
  {
   "cell_type": "code",
   "execution_count": 3,
   "id": "722ad636",
   "metadata": {},
   "outputs": [
    {
     "name": "stdout",
     "output_type": "stream",
     "text": [
      "Enter a string: sagar\n",
      "sagar\n"
     ]
    }
   ],
   "source": [
    "\"\"\"Q8) write a function to accept minimum 3 characters and maximum 5 characters. \n",
    "[ use default arguments method ]\n",
    "\"\"\" \n",
    "\n",
    "def accept_characters(min_length=3, max_length=5):\n",
    "    while True:\n",
    "        string = input(\"Enter a string: \")\n",
    "\n",
    "        if len(string) < min_length:\n",
    "            print(\"String must be at least\", min_length, \"characters long.\")\n",
    "        elif len(string) > max_length:\n",
    "            print(\"String must be at most\", max_length, \"characters long.\")\n",
    "        else:\n",
    "            break\n",
    "\n",
    "    return string\n",
    "print(accept_characters()) "
   ]
  },
  {
   "cell_type": "code",
   "execution_count": 4,
   "id": "8b163949",
   "metadata": {},
   "outputs": [
    {
     "name": "stdout",
     "output_type": "stream",
     "text": [
      "60\n"
     ]
    }
   ],
   "source": [
    "\"\"\"Q9 define a function in such a way that it can accept n number of \n",
    "values and print their sum. [ variable number of arguments]\"\"\"\n",
    "\n",
    "def accept(*vargs):\n",
    "    result=0\n",
    "    if(vargs.__len__()==0):\n",
    "     print(\"no argument passed\")\n",
    "    else:\n",
    "\t    for k in vargs:\n",
    "             result += k\n",
    "    return result\n",
    "print(accept(10,20,30))"
   ]
  },
  {
   "cell_type": "markdown",
   "id": "49b21ac9",
   "metadata": {},
   "source": [
    "###### Function_Accepts_Another_Function_As_An_Argument"
   ]
  },
  {
   "cell_type": "code",
   "execution_count": 5,
   "id": "269f912f",
   "metadata": {},
   "outputs": [
    {
     "name": "stdout",
     "output_type": "stream",
     "text": [
      "show 1\n",
      "show 2\n",
      "show 3\n"
     ]
    }
   ],
   "source": [
    "\n",
    "\"\"\"Q1 create 3 functions \"show1()\",\"show2()\" and \"show3()\"\n",
    "now define a function \"caller\" in such a way that it can accept any function as an argument and invoke the same.\n",
    "\n",
    "invoke caller function by passing show1,show2 and show3 \"\"\"\n",
    "\n",
    "def show1():\n",
    "    print(\"show 1\")\n",
    "def show2():\n",
    "    print(\"show 2\")\n",
    "def show3():\n",
    "    print(\"show 3\")\n",
    "def caller(fun):\n",
    "    if callable(fun):\n",
    "        fun()\n",
    "    else:\n",
    "        print(\"You Passed Non Callable Argument To Caller Function\")\n",
    "caller(show1)\n",
    "caller(show2)\n",
    "caller(show3)"
   ]
  },
  {
   "cell_type": "code",
   "execution_count": 6,
   "id": "e2dc449a",
   "metadata": {},
   "outputs": [
    {
     "name": "stdout",
     "output_type": "stream",
     "text": [
      "In Outer Function\n",
      "In Inner Function\n"
     ]
    }
   ],
   "source": [
    "\"\"\"Q2 define nested function and show how will you invoke it.\"\"\"\n",
    "\n",
    "\n",
    "def outer():\n",
    "    def inner():\n",
    "        print(\"In Inner Function\")\n",
    "    print(\"In Outer Function\")\n",
    "    return inner\n",
    "val=outer()\n",
    "val()"
   ]
  },
  {
   "cell_type": "code",
   "execution_count": null,
   "id": "64b26163",
   "metadata": {},
   "outputs": [],
   "source": []
  }
 ],
 "metadata": {
  "kernelspec": {
   "display_name": "Python 3 (ipykernel)",
   "language": "python",
   "name": "python3"
  },
  "language_info": {
   "codemirror_mode": {
    "name": "ipython",
    "version": 3
   },
   "file_extension": ".py",
   "mimetype": "text/x-python",
   "name": "python",
   "nbconvert_exporter": "python",
   "pygments_lexer": "ipython3",
   "version": "3.11.5"
  }
 },
 "nbformat": 4,
 "nbformat_minor": 5
}
